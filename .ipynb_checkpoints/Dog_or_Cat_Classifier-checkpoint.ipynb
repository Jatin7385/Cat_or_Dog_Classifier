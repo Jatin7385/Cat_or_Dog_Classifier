{
 "cells": [
  {
   "cell_type": "markdown",
   "id": "d153cfe6",
   "metadata": {},
   "source": [
    "# Convolutional Neural Network"
   ]
  },
  {
   "cell_type": "markdown",
   "id": "3d269e75",
   "metadata": {},
   "source": [
    "## Dog/Cat Classifier"
   ]
  },
  {
   "cell_type": "markdown",
   "id": "9c634552",
   "metadata": {},
   "source": [
    "### Import Libraries"
   ]
  },
  {
   "cell_type": "code",
   "execution_count": 2,
   "id": "1e0f8535",
   "metadata": {},
   "outputs": [],
   "source": [
    "import tensorflow as tf\n",
    "from keras.preprocessing.image import ImageDataGenerator"
   ]
  },
  {
   "cell_type": "code",
   "execution_count": 3,
   "id": "c9d254bf",
   "metadata": {},
   "outputs": [
    {
     "data": {
      "text/plain": [
       "'2.8.0'"
      ]
     },
     "execution_count": 3,
     "metadata": {},
     "output_type": "execute_result"
    }
   ],
   "source": [
    "tf.__version__"
   ]
  },
  {
   "cell_type": "markdown",
   "id": "35c4be1a",
   "metadata": {},
   "source": [
    "## Part 1- Data Preprocessing"
   ]
  },
  {
   "cell_type": "markdown",
   "id": "1801c319",
   "metadata": {},
   "source": [
    "    Preprocessing the Training Dataset"
   ]
  },
  {
   "cell_type": "code",
   "execution_count": 4,
   "id": "0e31c141",
   "metadata": {},
   "outputs": [
    {
     "name": "stdout",
     "output_type": "stream",
     "text": [
      "Found 8000 images belonging to 2 classes.\n"
     ]
    }
   ],
   "source": [
    "#Performing Image Augmentation.\n",
    "#Consists of transforming your images of the training set so that your CNN model doesn't overlearn and isn't overtrained \n",
    "\n",
    "#We'll be using ImageDataGenerator Class which generates batches of tensor image data with real time data augmentation\n",
    "\n",
    "#Train_datagen is an instance of the ImageDataGenerator class with the following arguments\n",
    "#Rescale performs feature scaling\n",
    "#The other three are image augmentation processes performed to prevent overfitting\n",
    "train_datagen = ImageDataGenerator(\n",
    "    rescale = 1./255,\n",
    "    shear_range = 0.2,\n",
    "    zoom_range = 0.2,\n",
    "    horizontal_flip = True\n",
    ")\n",
    "\n",
    "#Training dataset directory, target size(Final size of the images that will be fed into the neural network),\n",
    "# How many images in each batch, Binary outcome(class_mode)\n",
    "training_set = train_datagen.flow_from_directory(\n",
    "    './dataset/training_set',\n",
    "    target_size = (64,64),\n",
    "    batch_size = 32,\n",
    "    class_mode = 'binary'\n",
    ")"
   ]
  },
  {
   "cell_type": "markdown",
   "id": "9c54631b",
   "metadata": {},
   "source": [
    "    Preprocessing the Test Dataset"
   ]
  },
  {
   "cell_type": "code",
   "execution_count": 5,
   "id": "d8bfbdfa",
   "metadata": {},
   "outputs": [
    {
     "name": "stdout",
     "output_type": "stream",
     "text": [
      "Found 2000 images belonging to 2 classes.\n"
     ]
    }
   ],
   "source": [
    "test_datagen = ImageDataGenerator(rescale = 1./255)\n",
    "test_set = test_datagen.flow_from_directory(\n",
    "    './dataset/test_set',\n",
    "    target_size = (64,64),\n",
    "    batch_size = 32,\n",
    "    class_mode = 'binary'\n",
    ")"
   ]
  },
  {
   "cell_type": "markdown",
   "id": "715d3648",
   "metadata": {},
   "source": [
    "## Part 2- Building the CNN"
   ]
  },
  {
   "cell_type": "markdown",
   "id": "38586902",
   "metadata": {},
   "source": [
    "### Initializing the CNN"
   ]
  },
  {
   "cell_type": "code",
   "execution_count": 6,
   "id": "991278c4",
   "metadata": {},
   "outputs": [],
   "source": [
    "cnn = tf.keras.models.Sequential()"
   ]
  },
  {
   "cell_type": "markdown",
   "id": "c06a974c",
   "metadata": {},
   "source": [
    "### Step 1: Convolutiion"
   ]
  },
  {
   "cell_type": "code",
   "execution_count": 7,
   "id": "b8460e71",
   "metadata": {},
   "outputs": [],
   "source": [
    "#Need to add a convolution layer\n",
    "#Filters = No. of feature detectors to be used\n",
    "#Kernel is the feature detector used. 3 means it is of 3X3\n",
    "#activation means it is using relu activation function\n",
    "#input shape means that the image is of 64 by 64 and since it is colored, hence RGB values -> 3\n",
    "cnn.add(tf.keras.layers.Conv2D(filters=32,kernel_size=3,activation = 'relu', input_shape = [64,64,3]))"
   ]
  },
  {
   "cell_type": "markdown",
   "id": "e5d552b8",
   "metadata": {},
   "source": [
    "### Step 2: Pooling"
   ]
  },
  {
   "cell_type": "code",
   "execution_count": 8,
   "id": "746229e4",
   "metadata": {},
   "outputs": [],
   "source": [
    "#Applying Max pooling\n",
    "#Arguments are pool size(2X2), stride and padding(To prevent the pool to go out of bounds in the feature map)\n",
    "cnn.add(tf.keras.layers.MaxPool2D(pool_size = 2, strides = 2))"
   ]
  },
  {
   "cell_type": "markdown",
   "id": "d24aa073",
   "metadata": {},
   "source": [
    "### Adding a second convolution layer"
   ]
  },
  {
   "cell_type": "code",
   "execution_count": 9,
   "id": "279e2d4f",
   "metadata": {},
   "outputs": [],
   "source": [
    "#When we add more convolution layers, we need not specify the input shape in the convolution operation\n",
    "cnn.add(tf.keras.layers.Conv2D(filters=32,kernel_size=3,activation = 'relu'))\n",
    "cnn.add(tf.keras.layers.MaxPool2D(pool_size = 2, strides = 2))"
   ]
  },
  {
   "cell_type": "markdown",
   "id": "9b610a9e",
   "metadata": {},
   "source": [
    "### Step 3: Flattening"
   ]
  },
  {
   "cell_type": "code",
   "execution_count": 10,
   "id": "ded8a0e7",
   "metadata": {},
   "outputs": [],
   "source": [
    "cnn.add(tf.keras.layers.Flatten())"
   ]
  },
  {
   "cell_type": "markdown",
   "id": "e151a2af",
   "metadata": {},
   "source": [
    "### Step 4: Full Connection"
   ]
  },
  {
   "cell_type": "code",
   "execution_count": 11,
   "id": "aba15aff",
   "metadata": {},
   "outputs": [],
   "source": [
    "#Units is the no. of hidden neurons wanted(Using 128)\n",
    "#Activation function -> relu\n",
    "cnn.add(tf.keras.layers.Dense(units = 128,activation = 'relu'))"
   ]
  },
  {
   "cell_type": "markdown",
   "id": "a68d3b30",
   "metadata": {},
   "source": [
    "### Step 5: Output Layer"
   ]
  },
  {
   "cell_type": "code",
   "execution_count": 12,
   "id": "e6e08453",
   "metadata": {},
   "outputs": [],
   "source": [
    "#In the output layer, we have only 1 neuron, because it performs binary classification.\n",
    "# The activation function in the output layer is not recommended to be relu.\n",
    "# We use sigmoid activation function for binary classification.\n",
    "# We would use soft max classification if we were conducting multiclass classification\n",
    "cnn.add(tf.keras.layers.Dense(units = 1,activation = 'sigmoid'))"
   ]
  },
  {
   "cell_type": "markdown",
   "id": "3610d36b",
   "metadata": {},
   "source": [
    "## Part 3- Training the CNN"
   ]
  },
  {
   "cell_type": "markdown",
   "id": "44a2b907",
   "metadata": {},
   "source": [
    "    Compiling the CNN"
   ]
  },
  {
   "cell_type": "code",
   "execution_count": 13,
   "id": "04e04eea",
   "metadata": {},
   "outputs": [],
   "source": [
    "#Connecting the cnn with an optimizer, a loss function and some metrics\n",
    "#Using an adam optimizer, to perform stochastic gradient descent, to update the weights in order to reduce the loss error between the prediction and the target\n",
    "#Using the binary cross entropy loss because we are using binary classification\n",
    "#Using the accuracy metrics because that is the most relevant way to measure the performance of a classification model\n",
    "cnn.compile(optimizer = 'adam', loss = 'binary_crossentropy', metrics = ['accuracy'])"
   ]
  },
  {
   "cell_type": "markdown",
   "id": "99de8d6c",
   "metadata": {},
   "source": [
    "    Training the CNN on the Training Set and evaluating it on the Test set"
   ]
  },
  {
   "cell_type": "code",
   "execution_count": 14,
   "id": "0d96ba66",
   "metadata": {},
   "outputs": [
    {
     "name": "stdout",
     "output_type": "stream",
     "text": [
      "Epoch 1/25\n",
      "250/250 [==============================] - 73s 288ms/step - loss: 0.6750 - accuracy: 0.5750 - val_loss: 0.6244 - val_accuracy: 0.6595\n",
      "Epoch 2/25\n",
      "250/250 [==============================] - 77s 310ms/step - loss: 0.6002 - accuracy: 0.6796 - val_loss: 0.6065 - val_accuracy: 0.6625\n",
      "Epoch 3/25\n",
      "250/250 [==============================] - 87s 348ms/step - loss: 0.5507 - accuracy: 0.7206 - val_loss: 0.6615 - val_accuracy: 0.6720\n",
      "Epoch 4/25\n",
      "250/250 [==============================] - 65s 260ms/step - loss: 0.5237 - accuracy: 0.7394 - val_loss: 0.5556 - val_accuracy: 0.7325\n",
      "Epoch 5/25\n",
      "250/250 [==============================] - 73s 292ms/step - loss: 0.5082 - accuracy: 0.7470 - val_loss: 0.4993 - val_accuracy: 0.7585\n",
      "Epoch 6/25\n",
      "250/250 [==============================] - 59s 236ms/step - loss: 0.4855 - accuracy: 0.7636 - val_loss: 0.4838 - val_accuracy: 0.7700\n",
      "Epoch 7/25\n",
      "250/250 [==============================] - 55s 222ms/step - loss: 0.4693 - accuracy: 0.7770 - val_loss: 0.5024 - val_accuracy: 0.7765\n",
      "Epoch 8/25\n",
      "250/250 [==============================] - 57s 227ms/step - loss: 0.4568 - accuracy: 0.7859 - val_loss: 0.5434 - val_accuracy: 0.7400\n",
      "Epoch 9/25\n",
      "250/250 [==============================] - 58s 233ms/step - loss: 0.4522 - accuracy: 0.7821 - val_loss: 0.4590 - val_accuracy: 0.7885\n",
      "Epoch 10/25\n",
      "250/250 [==============================] - 63s 251ms/step - loss: 0.4396 - accuracy: 0.7959 - val_loss: 0.4946 - val_accuracy: 0.7735\n",
      "Epoch 11/25\n",
      "250/250 [==============================] - 58s 230ms/step - loss: 0.4237 - accuracy: 0.8014 - val_loss: 0.4587 - val_accuracy: 0.7910\n",
      "Epoch 12/25\n",
      "250/250 [==============================] - 69s 276ms/step - loss: 0.4173 - accuracy: 0.8056 - val_loss: 0.4968 - val_accuracy: 0.7665\n",
      "Epoch 13/25\n",
      "250/250 [==============================] - 64s 258ms/step - loss: 0.4015 - accuracy: 0.8145 - val_loss: 0.4426 - val_accuracy: 0.8045\n",
      "Epoch 14/25\n",
      "250/250 [==============================] - 63s 252ms/step - loss: 0.3960 - accuracy: 0.8189 - val_loss: 0.4700 - val_accuracy: 0.7940\n",
      "Epoch 15/25\n",
      "250/250 [==============================] - 63s 252ms/step - loss: 0.3875 - accuracy: 0.8248 - val_loss: 0.4554 - val_accuracy: 0.7950\n",
      "Epoch 16/25\n",
      "250/250 [==============================] - 63s 252ms/step - loss: 0.3835 - accuracy: 0.8266 - val_loss: 0.4380 - val_accuracy: 0.7955\n",
      "Epoch 17/25\n",
      "250/250 [==============================] - 62s 247ms/step - loss: 0.3594 - accuracy: 0.8369 - val_loss: 0.4605 - val_accuracy: 0.7970\n",
      "Epoch 18/25\n",
      "250/250 [==============================] - 55s 219ms/step - loss: 0.3539 - accuracy: 0.8431 - val_loss: 0.4495 - val_accuracy: 0.7900\n",
      "Epoch 19/25\n",
      "250/250 [==============================] - 55s 219ms/step - loss: 0.3584 - accuracy: 0.8405 - val_loss: 0.4913 - val_accuracy: 0.7845\n",
      "Epoch 20/25\n",
      "250/250 [==============================] - 55s 220ms/step - loss: 0.3425 - accuracy: 0.8496 - val_loss: 0.4606 - val_accuracy: 0.7995\n",
      "Epoch 21/25\n",
      "250/250 [==============================] - 81s 323ms/step - loss: 0.3298 - accuracy: 0.8546 - val_loss: 0.5784 - val_accuracy: 0.7525\n",
      "Epoch 22/25\n",
      "250/250 [==============================] - 78s 312ms/step - loss: 0.3201 - accuracy: 0.8601 - val_loss: 0.4570 - val_accuracy: 0.7995\n",
      "Epoch 23/25\n",
      "250/250 [==============================] - 65s 258ms/step - loss: 0.3143 - accuracy: 0.8670 - val_loss: 0.4744 - val_accuracy: 0.7970\n",
      "Epoch 24/25\n",
      "250/250 [==============================] - 62s 249ms/step - loss: 0.3056 - accuracy: 0.8662 - val_loss: 0.5586 - val_accuracy: 0.7840\n",
      "Epoch 25/25\n",
      "250/250 [==============================] - 64s 256ms/step - loss: 0.3024 - accuracy: 0.8691 - val_loss: 0.4803 - val_accuracy: 0.7995\n"
     ]
    },
    {
     "data": {
      "text/plain": [
       "<keras.callbacks.History at 0x24c5c214ee0>"
      ]
     },
     "execution_count": 14,
     "metadata": {},
     "output_type": "execute_result"
    }
   ],
   "source": [
    "cnn.fit(x = training_set, validation_data = test_set, epochs = 25)"
   ]
  },
  {
   "cell_type": "markdown",
   "id": "7694635e",
   "metadata": {},
   "source": [
    "## Part 4- Making a Single Prediction"
   ]
  },
  {
   "cell_type": "code",
   "execution_count": 16,
   "id": "b678fd30",
   "metadata": {},
   "outputs": [
    {
     "name": "stdout",
     "output_type": "stream",
     "text": [
      "dog\n"
     ]
    },
    {
     "data": {
      "image/png": "[encoded data removed]",
      "text/plain": [
       "<Figure size 432x288 with 1 Axes>"
      ]
     },
     "metadata": {
      "needs_background": "light"
     },
     "output_type": "display_data"
    }
   ],
   "source": [
    "import numpy as np\n",
    "import matplotlib.pyplot as plt\n",
    "from keras.preprocessing import image\n",
    "test_image = image.load_img(\"./dataset/single_prediction/cat_or_dog_1.jpg\", target_size = (64,64))\n",
    "plt.imshow(test_image)\n",
    "#Convert the image into a 2D array to make it acceptable to the CNN\n",
    "test_image = image.img_to_array(test_image)\n",
    "#Since our cnn was trained on data that were divided into batch sizes, we must put the test image into a batch\n",
    "test_image = np.expand_dims(test_image, axis = 0)#Increasing the dimension of the image to include the batch size.\n",
    "#The batch size dimension is the 1st in position, hence axis = 0\n",
    "result = cnn.predict(test_image)\n",
    "training_set.class_indices\n",
    "if result[0][0] == 0:\n",
    "    prediction = \"cat\"\n",
    "else:\n",
    "    prediction = \"dog\"\n",
    "print(prediction)"
   ]
  }
 ],
 "metadata": {
  "kernelspec": {
   "display_name": "Python 3",
   "language": "python",
   "name": "python3"
  },
  "language_info": {
   "codemirror_mode": {
    "name": "ipython",
    "version": 3
   },
   "file_extension": ".py",
   "mimetype": "text/x-python",
   "name": "python",
   "nbconvert_exporter": "python",
   "pygments_lexer": "ipython3",
   "version": "3.8.8"
  }
 },
 "nbformat": 4,
 "nbformat_minor": 5
}
